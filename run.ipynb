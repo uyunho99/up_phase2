{
 "cells": [
  {
   "cell_type": "markdown",
   "id": "526135df",
   "metadata": {},
   "source": [
    "## REACT"
   ]
  },
  {
   "cell_type": "code",
   "execution_count": null,
   "id": "31cf7d2d",
   "metadata": {},
   "outputs": [],
   "source": [
    "import pandas as pd\n",
    "import os\n",
    "from openai import OpenAI\n",
    "from new_keyword_pipeline import setup_vectordb, search_top10_keywords, generate_new_keyword\n",
    "from react_converted import main as sim_prompt_main\n",
    "\n",
    "os.environ[\"OPENAI_API_KEY\"] = \"sk-\"\n",
    "client = OpenAI()\n",
    "vectordb = setup_vectordb(\"./keyword_list.csv\")\n",
    "\n",
    "input = {\n",
    "    \"components\": \"로봇청소기\",\n",
    "    \"generated_summary\": \"ThinkQ 평면도상에 선을 그어 청소구역을 지정하도록 해주세요\"\n",
    "}\n",
    "\n",
    "# sim_prompt_main에서 ICC/Proposal/유사도/키워드 추출\n",
    "ticket_id, components, beforechange, afterchange, gen_sum, ragas_score, sim_keyword = sim_prompt_main(input)\n",
    "\n",
    "print(f\"\\n\\n✅ [최종 결과]\\n\"\n",
    "      f\"ticket_id: {ticket_id}\\n\"\n",
    "      f\"components: {components}\\n\"\n",
    "      f\"beforechange: {beforechange}\\n\"\n",
    "      f\"afterchange: {afterchange}\\n\"\n",
    "      f\"gen_sum: {gen_sum}\\n\"\n",
    "      f\"RAGAS_score: {ragas_score}\\n\"\n",
    "      f\"sim_keyword: {sim_keyword}\")\n",
    "\n",
    "# Proposal 분기 및 처리\n",
    "if ragas_score >= 90:\n",
    "    print(f\"[{ticket_id}] 유사도 90↑ 기존 키워드 업로드: {sim_keyword}\")\n",
    "else:\n",
    "    top10_keywords = search_top10_keywords(vectordb, gen_sum, top_k=10)\n",
    "    result = generate_new_keyword(\n",
    "        client, ticket_id, components, beforechange, afterchange,\n",
    "        gen_sum, ragas_score, sim_keyword, top10_keywords\n",
    "    )\n",
    "    print(f\"[{ticket_id}] 유사도 90↓ 새 키워드 생성: {result['new_keyword']}\")"
   ]
  },
  {
   "cell_type": "markdown",
   "id": "2e192f3f",
   "metadata": {},
   "source": [
    "## COT"
   ]
  },
  {
   "cell_type": "code",
   "execution_count": null,
   "id": "f7825d0c",
   "metadata": {},
   "outputs": [],
   "source": [
    "import pandas as pd\n",
    "import os\n",
    "from openai import OpenAI\n",
    "from new_keyword_pipeline import setup_vectordb, search_top10_keywords, generate_new_keyword\n",
    "from cot import main as sim_prompt_main\n",
    "\n",
    "os.environ[\"OPENAI_API_KEY\"] = \"sk-\"\n",
    "client = OpenAI()\n",
    "df = pd.read_csv('./all_origin_updated.csv', encoding='utf-8-sig')\n",
    "\n",
    "keyword_vectordb = setup_vectordb(\"./keyword_list.csv\")\n",
    "\n",
    "input = {\n",
    "    \"components\": \"로봇청소기\",\n",
    "    \"generated_summary\": \"ThinkQ 평면도상에 선을 그어 청소구역을 지정하도록 해주세요\"\n",
    "}\n",
    "\n",
    "# sim_prompt_main에서 ICC/Proposal/유사도/키워드 추출\n",
    "result, icc_df = sim_prompt_main(df, input)\n",
    "\n",
    "ticket_id = result['ticket_id']\n",
    "components = result['components']\n",
    "beforechange = result['before_change']\n",
    "afterchange = result['after_change']\n",
    "gen_sum = result['generated_summary']\n",
    "ragas_score = result['ragas_score']\n",
    "sim_keyword = result['keyword']\n",
    "    \n",
    "print(f\"\\n\\n✅ [최종 결과]\\n\"\n",
    "      f\"ticket_id: {ticket_id}\\n\"\n",
    "      f\"components: {components}\\n\"\n",
    "      f\"beforechange: {beforechange}\\n\"\n",
    "      f\"afterchange: {afterchange}\\n\"\n",
    "      f\"gen_sum: {gen_sum}\\n\"\n",
    "      f\"RAGAS_score: {ragas_score}\\n\"\n",
    "      f\"sim_keyword: {sim_keyword}\")\n",
    "\n",
    "# Proposal 분기 및 처리\n",
    "if ragas_score >= 90:\n",
    "    print(f\"[{ticket_id}] 유사도 90↑ 기존 키워드 업로드: {sim_keyword}\")\n",
    "else:\n",
    "    top10_keywords = search_top10_keywords(keyword_vectordb, gen_sum, top_k=10)\n",
    "    result = generate_new_keyword(\n",
    "        client, ticket_id, components, beforechange, afterchange,\n",
    "        gen_sum, ragas_score, sim_keyword, top10_keywords\n",
    "    )\n",
    "    print(f\"[{ticket_id}] 유사도 90↓ 새 키워드 생성: {result['new_keyword']}\")"
   ]
  },
  {
   "cell_type": "code",
   "execution_count": null,
   "id": "3498f900",
   "metadata": {},
   "outputs": [],
   "source": []
  }
 ],
 "metadata": {
  "kernelspec": {
   "display_name": "llm",
   "language": "python",
   "name": "python3"
  },
  "language_info": {
   "codemirror_mode": {
    "name": "ipython",
    "version": 3
   },
   "file_extension": ".py",
   "mimetype": "text/x-python",
   "name": "python",
   "nbconvert_exporter": "python",
   "pygments_lexer": "ipython3",
   "version": "3.11.0"
  }
 },
 "nbformat": 4,
 "nbformat_minor": 5
}
